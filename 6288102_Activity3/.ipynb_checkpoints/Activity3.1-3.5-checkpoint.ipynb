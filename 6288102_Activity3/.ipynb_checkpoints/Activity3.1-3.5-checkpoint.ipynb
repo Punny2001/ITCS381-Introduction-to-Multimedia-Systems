{
 "cells": [
  {
   "cell_type": "markdown",
   "metadata": {},
   "source": [
    "# Activity 3.1"
   ]
  },
  {
   "cell_type": "code",
   "execution_count": 2,
   "metadata": {},
   "outputs": [],
   "source": [
    "import numpy as np\n",
    "import cv2\n",
    "img = cv2.imread('dog.jpg',cv2.IMREAD_COLOR)\n",
    "img = cv2.resize(img, (350, 300))\n",
    "#convert to HSV\n",
    "img = cv2.cvtColor(img, cv2.COLOR_BGR2HSV) \n",
    "#show the image\n",
    "cv2.imshow('Color-convert', img)\n",
    "cv2.waitKey(0)\n",
    "cv2.destroyAllWindows()"
   ]
  },
  {
   "cell_type": "code",
   "execution_count": 3,
   "metadata": {},
   "outputs": [],
   "source": [
    "img = cv2.imread('dog.jpg',cv2.IMREAD_COLOR)\n",
    "img = cv2.resize(img, (350, 300))\n",
    "#convert to RGB\n",
    "img = cv2.cvtColor(img, cv2.COLOR_BGR2RGB ) \n",
    "#median blur size 13\n",
    "blur = cv2.medianBlur(img, 13)\n",
    "cv2.imshow('Smooth', blur)\n",
    "cv2.waitKey(0)\n",
    "cv2.destroyAllWindows()"
   ]
  },
  {
   "cell_type": "markdown",
   "metadata": {},
   "source": [
    "# Activity 3.2"
   ]
  },
  {
   "cell_type": "code",
   "execution_count": 1,
   "metadata": {},
   "outputs": [],
   "source": [
    "import numpy as np\n",
    "import cv2\n",
    "cap = cv2.VideoCapture('dog.mp4')\n",
    "frame_width = int(cap.get(3))\n",
    "frame_height = int(cap.get(4))\n",
    "out = cv2.VideoWriter('dog_out.avi',cv2.VideoWriter_fourcc(*'MJPG'), 25, (frame_width,frame_height), 0)\n",
    "while(cap.isOpened()):\n",
    "    ret, frame = cap.read()\n",
    "    if ret==True:\n",
    "#         out.write(frame)\n",
    "        edges = cv2.Canny(frame,100,200)\n",
    "        cv2.imshow('Input Video',edges)\n",
    "        out.write(edges)\n",
    "        if cv2.waitKey(20) & 0xFF == ord('q'):\n",
    "            break\n",
    "    else:\n",
    "        break\n",
    "# Release everything if job is finished\n",
    "cap.release()\n",
    "out.release()\n",
    "cv2.destroyAllWindows()"
   ]
  },
  {
   "cell_type": "markdown",
   "metadata": {},
   "source": [
    "# Activity 3.3"
   ]
  },
  {
   "cell_type": "code",
   "execution_count": 1,
   "metadata": {},
   "outputs": [],
   "source": [
    "import numpy as np\n",
    "import cv2\n",
    "cap = cv2.VideoCapture('dog.mp4')\n",
    "s = 5*30-30\n",
    "e = 13*30-30\n",
    "frame_width = int(cap.get(3))\n",
    "frame_height = int(cap.get(4))\n",
    "out = cv2.VideoWriter('dog_cap.avi',cv2.VideoWriter_fourcc(*'MJPG'), 25, (frame_width,frame_height))\n",
    "fps = cap.get(6)\n",
    "while(True):\n",
    "    ret, frame = cap.read()\n",
    "    if ret==True:\n",
    "        if cap.get(1) >= s and cap.get(1) <= e:\n",
    "            out.write(frame)        \n",
    "            cv2.imshow('Input Video',frame)\n",
    "    else:\n",
    "        break\n",
    "# Release everything if job is finished\n",
    "cap.release()\n",
    "out.release()\n",
    "cv2.destroyAllWindows()"
   ]
  },
  {
   "cell_type": "markdown",
   "metadata": {},
   "source": [
    "# Activity 3.4"
   ]
  },
  {
   "cell_type": "code",
   "execution_count": null,
   "metadata": {},
   "outputs": [],
   "source": []
  },
  {
   "cell_type": "markdown",
   "metadata": {},
   "source": [
    "# Activity 3.5"
   ]
  },
  {
   "cell_type": "code",
   "execution_count": 4,
   "metadata": {},
   "outputs": [
    {
     "name": "stdout",
     "output_type": "stream",
     "text": [
      "H1 compare with H2: 0.9925179438339592\n",
      "H1 compare with H3: 0.004141767734152474\n",
      "I1 is more similar to I2 than I3\n"
     ]
    }
   ],
   "source": [
    "import cv2\n",
    "\n",
    "img1 = cv2.imread('orange1.jpg',cv2.IMREAD_COLOR)\n",
    "img2 = cv2.imread('orange2.jpg',cv2.IMREAD_COLOR)\n",
    "img3 = cv2.imread('apple.jpg',cv2.IMREAD_COLOR)\n",
    "\n",
    "img1_hsv = cv2.cvtColor(img1, cv2.COLOR_BGR2HSV)\n",
    "img2_hsv = cv2.cvtColor(img2, cv2.COLOR_BGR2HSV)\n",
    "img3_hsv = cv2.cvtColor(img3, cv2.COLOR_BGR2HSV)\n",
    "\n",
    "hist_img1 = cv2.calcHist([img1_hsv], [0,1], None, [180,256], [0,180,0,256])\n",
    "cv2.normalize(hist_img1, hist_img1, alpha=0, beta=1, norm_type=cv2.NORM_MINMAX);\n",
    "\n",
    "hist_img2 = cv2.calcHist([img2_hsv], [0,1], None, [180,256], [0,180,0,256])\n",
    "cv2.normalize(hist_img2, hist_img2, alpha=0, beta=1, norm_type=cv2.NORM_MINMAX);\n",
    "\n",
    "hist_img3 = cv2.calcHist([img3_hsv], [0,1], None, [180,256], [0,180,0,256])\n",
    "cv2.normalize(hist_img3, hist_img3, alpha=0, beta=1, norm_type=cv2.NORM_MINMAX);\n",
    "\n",
    "metric_val1 = cv2.compareHist(hist_img1, hist_img2, cv2.HISTCMP_CORREL)\n",
    "metric_val2 = cv2.compareHist(hist_img1, hist_img3, cv2.HISTCMP_CORREL)\n",
    "\n",
    "print(\"H1 compare with H2: \" + str(metric_val1))\n",
    "print(\"H1 compare with H3: \" + str(metric_val2))\n",
    "\n",
    "if metric_val1 > metric_val2:\n",
    "    print(\"I1 is more similar to I2 than I3\")\n",
    "else:\n",
    "    print(\"I1 is more similar to I3 than I2\")"
   ]
  },
  {
   "cell_type": "code",
   "execution_count": null,
   "metadata": {},
   "outputs": [],
   "source": []
  }
 ],
 "metadata": {
  "kernelspec": {
   "display_name": "Python 3",
   "language": "python",
   "name": "python3"
  },
  "language_info": {
   "codemirror_mode": {
    "name": "ipython",
    "version": 3
   },
   "file_extension": ".py",
   "mimetype": "text/x-python",
   "name": "python",
   "nbconvert_exporter": "python",
   "pygments_lexer": "ipython3",
   "version": "3.8.5"
  }
 },
 "nbformat": 4,
 "nbformat_minor": 4
}
